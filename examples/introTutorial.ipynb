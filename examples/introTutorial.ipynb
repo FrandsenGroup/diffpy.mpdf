{
 "cells": [
  {
   "cell_type": "markdown",
   "metadata": {},
   "source": [
    "# Getting started with diffpy.magpdf"
   ]
  },
  {
   "cell_type": "markdown",
   "metadata": {},
   "source": [
    "The diffpy.magpdf pacakge aims to provide a flexible, object-oriented framework for computing the magnetic PDF from magnetic structures and performing refinements against neutron scattering data. This notebook gives an overview of how the mPDF software is organized and provides introductory examples of computing mPDFs. Additional examples are included on the CMI Exchange."
   ]
  },
  {
   "cell_type": "markdown",
   "metadata": {},
   "source": [
    "# Contents of this tutorial"
   ]
  },
  {
   "cell_type": "markdown",
   "metadata": {},
   "source": [
    "- Class structure of the magpdf package\n",
    "- Simple example: Calculating the mPDF from a spin dimer\n",
    "- Creating a magnetic structure from a CIF file using diffpy.Structure\n",
    "- Creating a magnetic structure by defining your own unit cell\n",
    "- Creating a magnetic structure with multiple species: Simple ferrimagnet\n",
    "- Creating more complex magnetic structures: One-dimensional spin helix\n",
    "- Exploring some of the additional parameters in the mPDF\n",
    "- Simple example of an mPDF fit"
   ]
  },
  {
   "cell_type": "markdown",
   "metadata": {},
   "source": [
    "# Class structure of the magpdf package"
   ]
  },
  {
   "cell_type": "markdown",
   "metadata": {},
   "source": [
    "The magpdf package contains several functions and three classes to aid in the mPDF calculations--the mPDFcalculator class, the magStructure class, and the optional (but often very useful) magSpecies class."
   ]
  },
  {
   "cell_type": "markdown",
   "metadata": {},
   "source": [
    "### magStructure class"
   ]
  },
  {
   "cell_type": "markdown",
   "metadata": {},
   "source": [
    "The main job of a magStructure object is to contain a numpy array of atomic positions (magStructure.atoms) and a corresponding numpy array of magnetic moment vectors (magStructure.spins), which are the only two absolutely required ingredients for calculating the mPDF. Additional optional information such as the Lande g-factor or magnetic form factor can be stored in a magStructure object if it is needed (as it often is for performing mPDF refinements). A diffpy.Structure object corresponding to the atomic structure of the material can also be stored for convenience when generating the atomic positions and spin vectors. Multiple types of magnetic species (e.g. spins on different ionic sites that may have different moment sizes) can be stored inside a single magStructure object."
   ]
  },
  {
   "cell_type": "markdown",
   "metadata": {},
   "source": [
    "### magSpecies class"
   ]
  },
  {
   "cell_type": "markdown",
   "metadata": {},
   "source": [
    "The magSpecies class is intended to provide an easy way to generate the atomic positions and spin vectors of a particular type of magnetic species in a structure. It takes a diffpy.Structure object and packages additional information pertaining to the magnetic structure, such as the magnetic propagation vector(s), magnetic basis vector(s), spin/orbital quantum numbers, and magnetic form factor. Alternatively, the user can define a unit cell populated with positions and spin orientations of the magnetic atoms, and this will be used rather than a diffpy.Structure object. The structural information is used in class methods that automatically generate the atomic positions and corresponding spin vectors, which can then be stored in a magStructure object. There are no limits on the number of propagation and basis vectors, allowing for arbitrarily complex magnetic structures. magSpecies objects can be loaded directly into a magStructure object or created from inside the magStructure object. Although a magSpecies object is not required to calculate the mPDF, it will usually provide the easiest way to populate the atom and spin arrays that are required for the mPDF. The reason for having separate magStructure and magSpecies classes is that a single magnetic structure may contain multiple magnetic species."
   ]
  },
  {
   "cell_type": "markdown",
   "metadata": {},
   "source": [
    "### mPDFcalculator class"
   ]
  },
  {
   "cell_type": "markdown",
   "metadata": {},
   "source": [
    "The mPDFcalculator class handles the details of the calculation and contains information that is not directly related to the magnetic structure, such as the real-space calculation range, any damping or broadening profile to be applied to the mPDF, scale factors, and experimental parameters like q<sub>min</sub> and q<sub>max</sub>. It requires a magStructure object as input, from which it extracts the atomic positions and spin vectors to be used in calculating the mPDF. The mPDFcalculator class has options for calculating both the properly normalized and the unnormalized mPDF (the unnormalized mPDF is frequently what we obtain experimentally)."
   ]
  },
  {
   "cell_type": "markdown",
   "metadata": {},
   "source": [
    "# Simple example: Calculating the mPDF from a spin dimer"
   ]
  },
  {
   "cell_type": "markdown",
   "metadata": {},
   "source": [
    "We will now create a very simple magnetic structure consisting of just two spins and then calculate the corresponding mPDF."
   ]
  },
  {
   "cell_type": "code",
   "execution_count": null,
   "metadata": {
    "collapsed": false
   },
   "outputs": [],
   "source": [
    "### Import the necessary libraries\n",
    "import numpy as np\n",
    "import matplotlib.pyplot as plt\n",
    "from diffpy.magpdf import *\n",
    "\n",
    "### Set all plots to be inline\n",
    "%matplotlib notebook\n",
    "\n",
    "### Create a magStructure object\n",
    "mstr=magStructure()\n",
    "\n",
    "### Create two atoms in the structure\n",
    "mstr.atoms=np.array([[0,0,0],[4,0,0]])\n",
    "\n",
    "### Create two spin vectors corresponding to the atoms. Let's make them antiferromagnetic.\n",
    "S=np.array([0,0,1])\n",
    "mstr.spins=np.array([S,-S])\n",
    "\n",
    "### Create the mPDFcalculator object and load the magnetic structure into it\n",
    "mc=mPDFcalculator(mstr)\n",
    "\n",
    "### Calculate and plot the mPDF!\n",
    "r,fr=mc.calc() # Use calc() if you want to extract the numerical results of the calculation\n",
    "mc.plot() # Use plot() if you just want to plot the mPDF without extracting the numerical arrays."
   ]
  },
  {
   "cell_type": "markdown",
   "metadata": {},
   "source": [
    "Note that the negative peak at 4 Angstroms is due to the antiferromagnetic orientation of the spins. The sloping baseline at low-r is real and is a unique feature of the mPDF that is not found in the atomic PDF.\n",
    "\n",
    "Just for fun, let's now make a copy of this structure but make the dimer ferromagnetic instead of antiferromagnetic."
   ]
  },
  {
   "cell_type": "code",
   "execution_count": null,
   "metadata": {
    "collapsed": false
   },
   "outputs": [],
   "source": [
    "### make a copy of the magnetic structure\n",
    "mstr2 = mstr.copy()\n",
    "\n",
    "### Set the spins to be ferromagnetic\n",
    "mstr2.spins = np.array([S,S])\n",
    "\n",
    "### Create another mPDF calculator\n",
    "mc2 = mPDFcalculator(mstr2)\n",
    "\n",
    "### Calculate the mPDF\n",
    "r2, fr2 = mc2.calc()\n",
    "\n",
    "### Compare the antiferromagnetic and ferromagnetic mPDFs\n",
    "fig = plt.figure()\n",
    "ax = fig.add_subplot(111)\n",
    "\n",
    "ax.plot(r,fr,'b-',label='Antiferro')\n",
    "ax.plot(r2,fr2,'r-',label='Ferro')\n",
    "\n",
    "ax.set_xlabel(r'r ($\\AA$)')\n",
    "ax.set_ylabel(r'f ($\\AA^{-2}$)')\n",
    "\n",
    "plt.legend()\n",
    "\n",
    "plt.show()"
   ]
  },
  {
   "cell_type": "markdown",
   "metadata": {},
   "source": [
    "# Creating a magnetic structure from a CIF file using diffpy.Structure"
   ]
  },
  {
   "cell_type": "markdown",
   "metadata": {},
   "source": [
    "This example will show how to use the magSpecies class and additional features in the magStructure class to quickly generate the atomic positions and spin vectors from a diffpy.Structure object. It will also show how to calculate the unnormalized mPDF, which is useful for comparison to and refinement against neutron total scattering data."
   ]
  },
  {
   "cell_type": "markdown",
   "metadata": {},
   "source": [
    "### Load the atomic structure from the CIF file"
   ]
  },
  {
   "cell_type": "code",
   "execution_count": null,
   "metadata": {
    "collapsed": false
   },
   "outputs": [],
   "source": [
    "### First we have to import the loadStructure function from diffpy.Structure\n",
    "from diffpy.Structure import loadStructure\n",
    "\n",
    "### Now let's create a diffpy.Structure object from a CIF file for MnO. This has all the atomic information,\n",
    "### but none of the magnetic information.\n",
    "mno=loadStructure('MnO_cubic.cif')\n",
    "\n",
    "### As a refresher, let's take a look at the mno structure object.\n",
    "mno"
   ]
  },
  {
   "cell_type": "markdown",
   "metadata": {},
   "source": [
    "### Create the magSpecies object"
   ]
  },
  {
   "cell_type": "code",
   "execution_count": null,
   "metadata": {
    "collapsed": true
   },
   "outputs": [],
   "source": [
    "### We will now create a magSpecies object to extend the mno structure object.\n",
    "mnoMag = magSpecies()\n",
    "\n",
    "### Load the mno structure and give the magnetic species a label\n",
    "mnoMag.struc = mno\n",
    "mnoMag.label = 'Mn2+'\n",
    "\n",
    "### Now we need to tell it which atoms in MnO are magnetic. From the printed list in the previous cell,\n",
    "### the magnetic Mn ions are the first four positions in the structure, so we provide the corresponding indices.\n",
    "mnoMag.magIdxs = [0,1,2,3]\n",
    "\n",
    "### Now we provide the magnetic propagation and basis vectors, which are known from previous neutron\n",
    "### diffraction studies of MnO.\n",
    "k = np.array([0.5,0.5,0.5])\n",
    "s = np.array([1,-1,0]) # we won't worry about the magnitude of the basis vector for now\n",
    "mnoMag.kvecs = np.array([k])\n",
    "mnoMag.basisvecs = np.array([s])\n",
    "\n",
    "### Now we provide information about the magnetic form factor. We tell the magSpecies object the type of magnetic\n",
    "### ion, and it looks up magnetic form factor in a table.\n",
    "mnoMag.ffparamkey='Mn2'"
   ]
  },
  {
   "cell_type": "markdown",
   "metadata": {},
   "source": [
    "### Create the magStructure object"
   ]
  },
  {
   "cell_type": "code",
   "execution_count": null,
   "metadata": {
    "collapsed": false
   },
   "outputs": [],
   "source": [
    "### Now we can create a magStructure object and load mnoMag into it.\n",
    "mnoMagStruc=magStructure()\n",
    "mnoMagStruc.loadSpecies(mnoMag)\n",
    "\n",
    "### Now we will generate the atomic positions and spins. It is important to do the atoms first, since the\n",
    "### spins are generated by applying the propagation and basis vectors to the atomic positions. These methods\n",
    "### use the information contained in the atomic and magnetic structures to generate arrays of atomic positions\n",
    "### and spin vectors.\n",
    "mnoMagStruc.makeAtoms()\n",
    "mnoMagStruc.makeSpins()\n",
    "\n",
    "### And we make the magnetic form factor:\n",
    "mnoMagStruc.makeFF()"
   ]
  },
  {
   "cell_type": "code",
   "execution_count": null,
   "metadata": {
    "collapsed": false
   },
   "outputs": [],
   "source": [
    "### Now we can create the mPDF calculator and load the magnetic structure\n",
    "mc=mPDFcalculator()\n",
    "mc.magstruc=mnoMagStruc\n",
    "\n",
    "### Plot the mPDf\n",
    "mc.plot()"
   ]
  },
  {
   "cell_type": "markdown",
   "metadata": {},
   "source": [
    "# Creating a magnetic structure by defining your own unit cell"
   ]
  },
  {
   "cell_type": "markdown",
   "metadata": {},
   "source": [
    "This example will show you how to create a magnetic structure from a unit cell that you define yourself. You will have to provide the lattice vectors, the positions of the magnetic atoms in the unit cell, and the magnetic moments corresponding to those atoms."
   ]
  },
  {
   "cell_type": "code",
   "execution_count": null,
   "metadata": {
    "collapsed": false
   },
   "outputs": [],
   "source": [
    "### Create the magnetic species and turn off the diffpy.structure option.\n",
    "mspec = magSpecies(useDiffpyStruc=False)\n",
    "\n",
    "### Define the lattice vectors of the unit cell. Let's make a cubic unit cell.\n",
    "a = 4.0\n",
    "mspec.latVecs = np.array([[a,0,0],[0,a,0],[0,0,a]])\n",
    "\n",
    "### Define the positions of the magnetic atoms in the unit cell (in fractional coordinates). Let's make\n",
    "### a body-centered structure.\n",
    "mspec.atomBasis = np.array([[0,0,0],[0.5,0.5,0.5]])\n",
    "\n",
    "### Define the magnetic moments in the same order as the list of atoms. Let's make an antiferromagnet.\n",
    "mspec.spinBasis = np.array([[0,0,1],[0,0,-1]])\n",
    "\n",
    "\n",
    "### Create the magnetic structure object and load mspec.\n",
    "mstruc=magStructure()\n",
    "mstruc.loadSpecies(mspec)\n",
    "mstruc.makeAtoms()\n",
    "mstruc.makeSpins()\n",
    "\n",
    "### Let's visualize the first unit cell to make sure we have what we expect.\n",
    "visAtoms=np.array([[0,0,0],[a,0,0],[0,a,0],[0,0,a],[a,a,0],[a,0,a],[0,a,a],[a,a,a],[0.5*a,0.5*a,0.5*a]])\n",
    "visSpins=mstruc.spinsFromAtoms(visAtoms,fractional=False)\n",
    "mstruc.visualize(visAtoms,visSpins)"
   ]
  },
  {
   "cell_type": "code",
   "execution_count": null,
   "metadata": {
    "collapsed": false
   },
   "outputs": [],
   "source": [
    "### Now we can set up the mPDFcalculator and plot the mPDF.\n",
    "mc = mPDFcalculator(mstruc)\n",
    "mc.plot()"
   ]
  },
  {
   "cell_type": "markdown",
   "metadata": {},
   "source": [
    "# Creating a magnetic structure with multiple species: Simple ferrimagnet"
   ]
  },
  {
   "cell_type": "markdown",
   "metadata": {},
   "source": [
    "We will create a ferrimagnetic structure to illustrate the use of multiple magnetic species within a single magnetic structure. Let's build another antiferromagnetic body-centered cubic structure but with two different spin species, one with a large moment and one with a small moment."
   ]
  },
  {
   "cell_type": "code",
   "execution_count": null,
   "metadata": {
    "collapsed": false
   },
   "outputs": [],
   "source": [
    "### Create the first magnetic species and turn off the diffpy.structure option.\n",
    "mspec1 = magSpecies(useDiffpyStruc=False)\n",
    "\n",
    "### Define the lattice vectors of the unit cell. Let's make a cubic unit cell.\n",
    "a = 4.0\n",
    "mspec1.latVecs = np.array([[a,0,0],[0,a,0],[0,0,a]])\n",
    "\n",
    "### Define the atomic position and magnetic moment.\n",
    "mspec1.atomBasis = np.array([0,0,0])\n",
    "mspec1.spinBasis = np.array([0,0,1])\n",
    "mspec1.label = 'big' ### it is necessary to define unique identifying labels when you have multiple species\n",
    "\n",
    "### Now make the other species, starting with mspec1 as a template\n",
    "mspec2=mspec1.copy()\n",
    "mspec2.atomBasis = np.array([0.5,0.5,0.5])\n",
    "mspec2.spinBasis = np.array([0,0,-0.5])\n",
    "mspec2.label = 'small'\n",
    "### Create the magnetic structure object and load the species.\n",
    "mstruc=magStructure()\n",
    "mstruc.loadSpecies(mspec1)\n",
    "mstruc.loadSpecies(mspec2)\n",
    "mstruc.makeAll()\n",
    "\n",
    "### Again, let's visualize the first unit cell to make sure we have what we expect.\n",
    "visAtoms=np.array([[0,0,0],[a,0,0],[0,a,0],[0,0,a],[a,a,0],[a,0,a],[0,a,a],[a,a,a],[0.5*a,0.5*a,0.5*a]])\n",
    "visSpins=mstruc.spinsFromAtoms(visAtoms,fractional=False)\n",
    "mstruc.visualize(visAtoms,visSpins,showcrystalaxes=True,axesorigin=np.array([-1,-1,-1]))"
   ]
  },
  {
   "cell_type": "code",
   "execution_count": null,
   "metadata": {
    "collapsed": false
   },
   "outputs": [],
   "source": [
    "### Now we can set up the mPDFcalculator and plot the mPDF.\n",
    "mc = mPDFcalculator(mstruc)\n",
    "\n",
    "### Important: since we have two different magnetic species, we must be sure that the calculation\n",
    "### uses an equivalent number of spins from each species as the \"center\" of the calculation.\n",
    "### We do this by changing the calcList attribute of the mPDFcalculator, which is a list of the \n",
    "### indices of the atoms/spins to be used as the centers for the calculation. To find the starting\n",
    "### index of each species, use the getSpeciesIdxs method on the magnetic structure.\n",
    "mc.calcList=mstruc.getSpeciesIdxs().values()\n",
    "print mc.calcList\n",
    "\n",
    "### Now we can plot.\n",
    "mc.plot()"
   ]
  },
  {
   "cell_type": "markdown",
   "metadata": {},
   "source": [
    "# Creating more complex magnetic structures: One-dimensional spin helix"
   ]
  },
  {
   "cell_type": "markdown",
   "metadata": {},
   "source": [
    "This example shows how to use multiple magnetic propagation vectors to create a non-collinear magnetic structure--in this case, a one-dimensional spin helix."
   ]
  },
  {
   "cell_type": "code",
   "execution_count": null,
   "metadata": {
    "collapsed": false
   },
   "outputs": [],
   "source": [
    "### We will load in a structure from a CIF file and modify it to simulate a 1-D material.\n",
    "astruc = loadStructure(\"MnO_cubic.cif\")\n",
    "astruc.lattice.a=3.0\n",
    "astruc.lattice.b=150.0\n",
    "astruc.lattice.c=150.0\n",
    "\n",
    "### Create the magnetic species object.\n",
    "helix=magSpecies(astruc)\n",
    "\n",
    "### Set up the magnetic propagation and basis vectors for a helical spin configuration.\n",
    "k = np.array([np.sqrt(2)/10,0,0]) # make the period incommensurate with the lattice\n",
    "helix.kvecs=np.array([k, -k])\n",
    "\n",
    "Sk=0.5*(np.array([0,0,1])+0.5j*np.array([0,1,0])) # j is the numpy symbol for the imaginary unit\n",
    "helix.basisvecs=np.array([Sk,Sk.conj()])\n",
    "\n",
    "### Populate with atoms and spins.\n",
    "helix.rmaxAtoms=70.0\n",
    "helix.makeAtoms()\n",
    "helix.makeSpins()\n",
    "helix.label='helix'\n",
    "\n",
    "### Create the magnetic structure object.\n",
    "mstruc=magStructure()\n",
    "mstruc.loadSpecies(helix)\n",
    "#mstruc.makeAll()\n",
    "\n",
    "#### Visualize the spins.\n",
    "x,y,z=mstruc.atoms.transpose()\n",
    "mask=np.logical_and(z==0,np.logical_and(y==0,np.abs(x)<30))\n",
    "visatoms=mstruc.atoms[mask]\n",
    "visspins=spinsFromAtoms(mstruc,visatoms,fractional=False)\n",
    "mstruc.visualize(visatoms,visspins)"
   ]
  },
  {
   "cell_type": "code",
   "execution_count": null,
   "metadata": {
    "collapsed": false
   },
   "outputs": [],
   "source": [
    "### Now plot the mPDF.\n",
    "mc=mPDFcalculator(mstruc)\n",
    "mc.rmax=70.0\n",
    "\n",
    "mc.plot()"
   ]
  },
  {
   "cell_type": "markdown",
   "metadata": {},
   "source": [
    "# Exploring some of the additional parameters in the mPDF"
   ]
  },
  {
   "cell_type": "markdown",
   "metadata": {},
   "source": [
    "Now we will take a look at some of the other mPDF parameters that can be adjusted, including:\n",
    "- Qmin and Qmax to simulate experimental conditions.\n",
    "- Parameters that dampen and/or broaden the mPDF, simulating the effects of thermal motion and instrumental resolution.\n",
    "- \"Ordered\" scale factor corresponding to the magnitude of the locally ordered moment, and \"paramagnetic\" scale factor which depends only on the magnitude and spatial extent of a single localized moment, not any correlations between moments.\n",
    "- The r-range for the calculation.\n",
    "\n",
    "For this, we will create the antiferromagnetic MnO structure again."
   ]
  },
  {
   "cell_type": "code",
   "execution_count": null,
   "metadata": {
    "collapsed": false
   },
   "outputs": [],
   "source": [
    "### Create the diffpy structure, magSpecies, and magStructure\n",
    "mno = loadStructure('MnO_cubic.cif')\n",
    "\n",
    "mnoMag = magSpecies(mno,magIdxs=[0,1,2,3],label='Mn2+',ffparamkey='Mn2')\n",
    "mnoMag.kvecs = np.array([0.5,0.5,0.5])\n",
    "mnoMag.basisvecs = np.array([1,-1,0])\n",
    "\n",
    "mnoMagStruc=magStructure()\n",
    "mnoMagStruc.loadSpecies(mnoMag)\n",
    "mnoMagStruc.makeAll()"
   ]
  },
  {
   "cell_type": "markdown",
   "metadata": {},
   "source": [
    "Now we'll make the mPDF calculator along with several slightly modified copies so that we can compare them."
   ]
  },
  {
   "cell_type": "code",
   "execution_count": null,
   "metadata": {
    "collapsed": false
   },
   "outputs": [],
   "source": [
    "### Default mPDF calculator\n",
    "mc=mPDFcalculator(mnoMagStruc)\n",
    "r,fr,dr = mc.calc(both=True)\n",
    "\n",
    "### Adjust qmin and qmax to simulate termination ripples\n",
    "mcQ=mc.copy()\n",
    "mcQ.qmin,mcQ.qmax=0.1,25\n",
    "rq,frq = mcQ.calc()\n",
    "sclfactor = fr.max()/frq.max()\n",
    "frq *= sclfactor\n",
    "\n",
    "fig = plt.figure()\n",
    "ax = fig.add_subplot(111)\n",
    "\n",
    "ax.plot(r,fr,'b-',label='Default')\n",
    "ax.plot(rq,frq,'r-',label='With qmin/qmax')\n",
    "ax.plot(r,frq-fr-7,'g-',label='Difference')\n",
    "\n",
    "ax.set_xlabel(r'r ($\\AA$)')\n",
    "ax.set_ylabel(r'f ($\\AA^{-2}$)')\n",
    "\n",
    "plt.legend(loc='best')\n",
    "plt.show()"
   ]
  },
  {
   "cell_type": "code",
   "execution_count": null,
   "metadata": {
    "collapsed": false
   },
   "outputs": [],
   "source": [
    "### Change the intrinsic mPDF peak width to simulate thermal motion\n",
    "### and/or instrumental resolution effects.\n",
    "mcB = mc.copy()\n",
    "mcB.gaussPeakWidth=0.2 # in Angstroms; default is 0.1\n",
    "rB,frB = mcB.calc()\n",
    "\n",
    "### Include a damping factor to simulate a finite correlation length\n",
    "### and/or instrumental resolution effects.\n",
    "mcD = mc.copy()\n",
    "mcD.dampRate = 0.1 # in inverse Angstroms\n",
    "rD,frD = mcD.calc()\n",
    "\n",
    "fig = plt.figure()\n",
    "ax = fig.add_subplot(111)\n",
    "\n",
    "ax.plot(r,fr,'b-',label='Default')\n",
    "ax.plot(rB,frB,'r-',label='Broadened')\n",
    "ax.plot(rD,frD,'g-',label='Damped')\n",
    "ax.set_xlabel(r'r ($\\AA$)')\n",
    "ax.set_ylabel(r'f ($\\AA^{-2}$)')\n",
    "\n",
    "plt.legend(loc='best')\n",
    "plt.show()"
   ]
  },
  {
   "cell_type": "code",
   "execution_count": null,
   "metadata": {
    "collapsed": false
   },
   "outputs": [],
   "source": [
    "### Change the ordered scale factor relative to the paramagnetic scale factor, simulating\n",
    "### a reduction in the size of the ordered moment relative to the total local moment.\n",
    "mcS = mc.copy()\n",
    "mcS.ordScale = 0.5*mc.ordScale\n",
    "rS,frS,drS = mcS.calc(both=True) # both the normalized and unnormalized mPDF\n",
    "\n",
    "fig = plt.figure()\n",
    "ax = fig.add_subplot(111)\n",
    "\n",
    "ax.plot(r,dr,'b-',label='Default')\n",
    "ax.plot(rS,drS,'r-',label='Reduced scale factor')\n",
    "ax.set_xlabel(r'r ($\\AA$)')\n",
    "ax.set_ylabel(r'd ($\\AA^{-2}$)')\n",
    "\n",
    "plt.legend(loc='best')\n",
    "plt.show()"
   ]
  },
  {
   "cell_type": "code",
   "execution_count": null,
   "metadata": {
    "collapsed": false
   },
   "outputs": [],
   "source": [
    "### Change the r-range for the calculation from 20 Angstomrs (default) to 40.\n",
    "mcL = mc.copy()\n",
    "mcL.rmax=40 # in Angstroms\n",
    "\n",
    "### Since the r-range is longer, we also need to re-generate the atoms and spins\n",
    "### to fill a sphere of at least radius 40 Angstroms. The code below does this.\n",
    "mcL.magstruc.species['Mn2+'].rmaxAtoms=50\n",
    "mcL.magstruc.makeAll()\n",
    "\n",
    "rL,frL,drL = mcL.calc(both=True)\n",
    "\n",
    "fig = plt.figure()\n",
    "ax = fig.add_subplot(111)\n",
    "\n",
    "ax.plot(r,dr,'bo',label='Default')\n",
    "ax.plot(rL,drL,'r-',label='Longer r-grid')\n",
    "ax.set_xlabel(r'r ($\\AA$)')\n",
    "ax.set_ylabel(r'd ($\\AA^{-2}$)')\n",
    "\n",
    "plt.legend(loc='best')\n",
    "plt.show()"
   ]
  },
  {
   "cell_type": "markdown",
   "metadata": {},
   "source": [
    "# Simple example of an mPDF fit"
   ]
  },
  {
   "cell_type": "markdown",
   "metadata": {},
   "source": [
    "Here, we will provide an example of doing a very basic mPDF fit to actual experimental data taken on MnO. The initial structural PDF was refined using PDFgui, and now we use the residual of that structural fit as the dataset against which the mPDF will be refined. To keep things simple, we will just refine the scale factors here."
   ]
  },
  {
   "cell_type": "code",
   "execution_count": null,
   "metadata": {
    "collapsed": false
   },
   "outputs": [],
   "source": [
    "# Create the structure from our cif file, update the lattice according to the PDFgui fit.\n",
    "structureFile = \"MnO_R-3m.cif\" # note we are not using the cubic structure now\n",
    "mnostructure = loadStructure(structureFile)\n",
    "lat=mnostructure.lattice\n",
    "lat.a,lat.b,lat.c=3.1505626,3.1505626,7.5936979 # these are the refined values from PDFgui\n",
    "\n",
    "### Create the Mn2+ magnetic species.\n",
    "msp=magSpecies(struc=mnostructure,label='Mn2+',ffparamkey='Mn2')\n",
    "msp.magIdxs=[0,1,2] # these indices correspond to the Mn atoms in the rhombohedral unit cell\n",
    "msp.basisvecs=2.5*np.array([1,0,0]) # spin direction in coordinate system of rhombohedral structure\n",
    "msp.kvecs=np.array([0,0,1.5]) # propagation vector in the rhombohedral structure\n",
    "\n",
    "### Create and prep the magnetic structure.\n",
    "mstr=magStructure()\n",
    "mstr.loadSpecies(msp)\n",
    "mstr.makeAll()\n",
    "\n",
    "### Set up the mPDF calculator.\n",
    "mc=mPDFcalculator(magstruc=mstr)\n",
    "\n",
    "\n",
    "# Load the data\n",
    "PDFfitFile='MnOfit_PDFgui.fgr'\n",
    "rexp,Drexp=getDiffData([PDFfitFile])\n",
    "mc.rmin=rexp.min()\n",
    "mc.rmax=rexp.max()\n",
    "\n",
    "# Do the refinement\n",
    "from scipy.optimize import leastsq\n",
    "\n",
    "def residual(p,yexp,mcalc):\n",
    "    mcalc.paraScale,mcalc.ordScale=p\n",
    "    return yexp-mcalc.calc(both=True)[2]\n",
    "\n",
    "p0=[5.0,3.0] # initial parameter values; paraScale, ordScale\n",
    "pOpt=leastsq(residual,p0,args=(Drexp,mc))\n",
    "print pOpt\n",
    "\n",
    "fit = mc.calc(both=True)[2]\n",
    "mdiff = Drexp - fit\n",
    "\n",
    "### Plot the results.\n",
    "\n",
    "# Grab full structural PDF data for plotting.\n",
    "PDFdata = np.loadtxt(PDFfitFile,unpack=True,skiprows=12)\n",
    "r,grcalc,gdiff = PDFdata[0],PDFdata[1],PDFdata[3]\n",
    "gobs = gdiff + grcalc\n",
    "offset1 = 1.2*gobs.min()\n",
    "offset2 = offset1 - 8*mdiff.max()\n",
    "\n",
    "# Make the figure.\n",
    "fig=plt.figure()\n",
    "ax=fig.add_subplot(111)\n",
    "mask = (r <= mc.rmax)\n",
    "ax.plot(r[mask],gobs[mask],marker='o',mfc='none',mec='b',linestyle='none')\n",
    "ax.plot(r[mask],grcalc[mask],'r-',lw=3)\n",
    "ax.plot(r[mask],gdiff[mask]+offset1,marker='o',mfc='none',mec='b',linestyle='none')\n",
    "ax.plot(rexp,fit+offset1,'r-',lw=3)\n",
    "ax.plot(rexp,np.zeros_like(rexp)+offset2,'k:')\n",
    "ax.plot(rexp,mdiff+offset2,'g-')\n",
    "ax.set_xlim(xmin=mc.rmin,xmax=mc.rmax)\n",
    "ax.set_xlabel('r ($\\AA$)')\n",
    "ax.set_ylabel('G, d ($\\AA^{-2}$)')\n",
    "\n",
    "plt.show()"
   ]
  },
  {
   "cell_type": "markdown",
   "metadata": {},
   "source": [
    "In the plot above, the top set of curves gives the total experimental PDF (blue circles) with the refined structural PDF (red curve). The lower set of curves gives the structural PDF fit residual (blue circles), which contains the experimental mPDF, with the refined mPDF overlaid (red curve). The lower green curve gives the combined PDF+mPDF fit residual."
   ]
  },
  {
   "cell_type": "code",
   "execution_count": null,
   "metadata": {
    "collapsed": true
   },
   "outputs": [],
   "source": [
    "plt.close('all')"
   ]
  },
  {
   "cell_type": "markdown",
   "metadata": {},
   "source": [
    "### This concludes the introductory tutorial for diffpy.magpdf. Try out the other example scripts to gain more familiarity with the package, such as how to do a simultaneous co-refinement of the PDF and mPDF. Then go on and use the package for your own data!"
   ]
  }
 ],
 "metadata": {
  "kernelspec": {
   "display_name": "Python 2",
   "language": "python",
   "name": "python2"
  },
  "language_info": {
   "codemirror_mode": {
    "name": "ipython",
    "version": 2
   },
   "file_extension": ".py",
   "mimetype": "text/x-python",
   "name": "python",
   "nbconvert_exporter": "python",
   "pygments_lexer": "ipython2",
   "version": "2.7.11"
  }
 },
 "nbformat": 4,
 "nbformat_minor": 0
}
